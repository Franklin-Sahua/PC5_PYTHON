{
  "nbformat": 4,
  "nbformat_minor": 0,
  "metadata": {
    "colab": {
      "provenance": []
    },
    "kernelspec": {
      "name": "python3",
      "display_name": "Python 3"
    },
    "language_info": {
      "name": "python"
    }
  },
  "cells": [
    {
      "cell_type": "code",
      "metadata": {
        "colab": {
          "base_uri": "https://localhost:8080/"
        },
        "id": "f46bd6df",
        "outputId": "1b79dcf8-66fc-4471-db13-698b4e5fbf47"
      },
      "source": [
        "!pip install pymongo"
      ],
      "execution_count": 3,
      "outputs": [
        {
          "output_type": "stream",
          "name": "stdout",
          "text": [
            "Collecting pymongo\n",
            "  Downloading pymongo-4.13.2-cp311-cp311-manylinux_2_17_x86_64.manylinux2014_x86_64.whl.metadata (22 kB)\n",
            "Collecting dnspython<3.0.0,>=1.16.0 (from pymongo)\n",
            "  Downloading dnspython-2.7.0-py3-none-any.whl.metadata (5.8 kB)\n",
            "Downloading pymongo-4.13.2-cp311-cp311-manylinux_2_17_x86_64.manylinux2014_x86_64.whl (1.4 MB)\n",
            "\u001b[2K   \u001b[90m━━━━━━━━━━━━━━━━━━━━━━━━━━━━━━━━━━━━━━━━\u001b[0m \u001b[32m1.4/1.4 MB\u001b[0m \u001b[31m21.3 MB/s\u001b[0m eta \u001b[36m0:00:00\u001b[0m\n",
            "\u001b[?25hDownloading dnspython-2.7.0-py3-none-any.whl (313 kB)\n",
            "\u001b[2K   \u001b[90m━━━━━━━━━━━━━━━━━━━━━━━━━━━━━━━━━━━━━━━━\u001b[0m \u001b[32m313.6/313.6 kB\u001b[0m \u001b[31m21.0 MB/s\u001b[0m eta \u001b[36m0:00:00\u001b[0m\n",
            "\u001b[?25hInstalling collected packages: dnspython, pymongo\n",
            "Successfully installed dnspython-2.7.0 pymongo-4.13.2\n"
          ]
        }
      ]
    },
    {
      "cell_type": "code",
      "execution_count": 4,
      "metadata": {
        "colab": {
          "base_uri": "https://localhost:8080/"
        },
        "id": "lgGd3OgVtjUZ",
        "outputId": "a2ed0298-a280-4c78-a18f-641732423225"
      },
      "outputs": [
        {
          "output_type": "stream",
          "name": "stdout",
          "text": [
            "No se pudo conectar a MongoDB: localhost:27017: [Errno 111] Connection refused (configured timeouts: socketTimeoutMS: 20000.0ms, connectTimeoutMS: 20000.0ms), Timeout: 30s, Topology Description: <TopologyDescription id: 6885d1a6fd57480d3f9aa5f2, topology_type: Unknown, servers: [<ServerDescription ('localhost', 27017) server_type: Unknown, rtt: None, error=AutoReconnect('localhost:27017: [Errno 111] Connection refused (configured timeouts: socketTimeoutMS: 20000.0ms, connectTimeoutMS: 20000.0ms)')>]>\n",
            "Todos los reportes han sido generados y exportados correctamente.\n"
          ]
        }
      ],
      "source": [
        "import pandas as pd\n",
        "import sqlite3\n",
        "from pymongo import MongoClient\n",
        "\n",
        "\n",
        "# 1. Cargar dataset\n",
        "\n",
        "df = pd.read_csv('winemag-data-130k-v2.csv')\n",
        "\n",
        "\n",
        "# 2. Renombrar columnas\n",
        "\n",
        "df.rename(columns={\n",
        "    'country': 'pais',\n",
        "    'description': 'descripcion',\n",
        "    'points': 'puntuacion',\n",
        "    'price': 'precio'\n",
        "}, inplace=True)\n",
        "\n",
        "\n",
        "# 3. Crear nuevas columnas\n",
        "\n",
        "# Mapeo de continentes\n",
        "continente_dict = {\n",
        "    'Italy': 'Europa', 'Portugal': 'Europa', 'US': 'America', 'Spain': 'Europa',\n",
        "    'France': 'Europa', 'Germany': 'Europa', 'Argentina': 'America', 'Chile': 'America',\n",
        "    'Austria': 'Europa', 'Australia': 'Oceania', 'South Africa': 'Africa',\n",
        "    'New Zealand': 'Oceania', 'Israel': 'Asia', 'Brazil': 'America'\n",
        "}\n",
        "df['continente'] = df['pais'].map(continente_dict).fillna('Otros')\n",
        "\n",
        "# Categoría de precio\n",
        "def categoria_precio(precio):\n",
        "    if pd.isna(precio):\n",
        "        return 'Desconocido'\n",
        "    elif precio < 20:\n",
        "        return 'Barato'\n",
        "    elif precio <= 50:\n",
        "        return 'Medio'\n",
        "    else:\n",
        "        return 'Caro'\n",
        "df['categoria_precio'] = df['precio'].apply(categoria_precio)\n",
        "\n",
        "# Calidad según puntuación\n",
        "def calidad(puntuacion):\n",
        "    if puntuacion < 85:\n",
        "        return 'Baja'\n",
        "    elif puntuacion <= 90:\n",
        "        return 'Media'\n",
        "    else:\n",
        "        return 'Alta'\n",
        "df['calidad'] = df['puntuacion'].apply(calidad)\n",
        "\n",
        "\n",
        "# 4. Generar Reportes\n",
        "\n",
        "# Reporte 1: Promedio precio y puntuación por país\n",
        "reporte1 = df.groupby('pais').agg(\n",
        "    promedio_precio=('precio', 'mean'),\n",
        "    promedio_puntuacion=('puntuacion', 'mean')\n",
        ").sort_values(by='promedio_puntuacion', ascending=False)\n",
        "\n",
        "# Reporte 2: Top 10 vinos más caros\n",
        "reporte2 = df[['pais', 'precio', 'puntuacion', 'title']].sort_values(by='precio', ascending=False).head(10)\n",
        "\n",
        "# Reporte 3: Cantidad de vinos por continente y categoría de precio\n",
        "reporte3 = df.groupby(['continente', 'categoria_precio']).size().reset_index(name='cantidad')\n",
        "\n",
        "# Reporte 4: Promedio de precio y cantidad de vinos por calidad\n",
        "reporte4 = df.groupby('calidad').agg(\n",
        "    promedio_precio=('precio', 'mean'),\n",
        "    cantidad_vinos=('calidad', 'count')\n",
        ").sort_values(by='promedio_precio', ascending=False)\n",
        "\n",
        "# ========================\n",
        "# 5. Exportar los reportes\n",
        "# ========================\n",
        "# Reporte 1 → CSV\n",
        "reporte1.to_csv('reporte1_promedio_por_pais.csv', index=True)\n",
        "\n",
        "# Reporte 2 → Excel\n",
        "reporte2.to_excel('reporte2_top10_caros.xlsx', index=False)\n",
        "\n",
        "# Reporte 3 → SQLite\n",
        "conn = sqlite3.connect('reportes.db')\n",
        "reporte3.to_sql('reporte3_vinos_por_categoria', conn, if_exists='replace', index=False)\n",
        "conn.close()\n",
        "\n",
        "# Reporte 4 → MongoDB\n",
        "try:\n",
        "    client = MongoClient('mongodb://localhost:27017/')\n",
        "    db = client['reportes_vino']\n",
        "    collection = db['reporte4_calidad']\n",
        "    data = reporte4.reset_index().to_dict(orient='records')\n",
        "    collection.insert_many(data)\n",
        "    print(\"Reporte 4 guardado en MongoDB correctamente.\")\n",
        "except Exception as e:\n",
        "    print(\"No se pudo conectar a MongoDB:\", e)\n",
        "\n",
        "print(\"Todos los reportes han sido generados y exportados correctamente.\")\n"
      ]
    }
  ]
}